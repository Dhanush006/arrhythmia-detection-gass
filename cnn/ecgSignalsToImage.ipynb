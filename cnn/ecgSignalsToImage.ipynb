{
 "cells": [
  {
   "cell_type": "code",
   "execution_count": 1,
   "metadata": {},
   "outputs": [],
   "source": [
    "import os\n",
    "import cv2\n",
    "import shutil\n",
    "import numpy as np\n",
    "from os import listdir\n",
    "import matplotlib.pyplot as plt\n",
    "import scipy.io\n",
    "from scipy.interpolate import interp1d"
   ]
  },
  {
   "cell_type": "code",
   "execution_count": 2,
   "metadata": {},
   "outputs": [],
   "source": [
    "# Cells 4 and 5 create data for the Original Resized Signals\n",
    "# Cells 6 and 7 create data for the Low Pass Filtered Signals\n",
    "# Cells 8 and 9 create data for SASS Filtered Signals"
   ]
  },
  {
   "cell_type": "code",
   "execution_count": 3,
   "metadata": {},
   "outputs": [],
   "source": [
    "Signals = 'C:\\\\Users\\\\HP\\\\Downloads\\\\DSP Project\\\\hmb\\\\Final Stuff\\\\Resized Signals\\\\'\n",
    "Signals2 = 'C:\\\\Users\\\\HP\\\\Downloads\\\\DSP Project\\\\hmb\\\\Final Stuff\\\\Low Pass Signals\\\\'\n",
    "Signals3 = 'C:\\\\Users\\\\HP\\\\Downloads\\\\DSP Project\\\\hmb\\\\Final Stuff\\\\GASS Signals\\\\'\n",
    "\n",
    "Temp = 'C:\\\\Users\\\\HP\\\\Downloads\\\\DSP Project\\\\hmb\\\\Final Stuff\\\\Temp1\\\\'\n",
    "Temp2 = 'C:\\\\Users\\\\HP\\\\Downloads\\\\DSP Project\\\\hmb\\\\Final Stuff\\\\Temp2\\\\'\n",
    "Temp3 = 'C:\\\\Users\\\\HP\\\\Downloads\\\\DSP Project\\\\hmb\\\\Final Stuff\\\\Temp3\\\\'\n",
    "\n",
    "Output = 'C:\\\\Users\\\\HP\\\\Downloads\\\\DSP Project\\\\hmb\\\\Final Stuff\\\\Resized Images\\\\'\n",
    "Output2 = 'C:\\\\Users\\\\HP\\\\Downloads\\\\DSP Project\\\\hmb\\\\Final Stuff\\\\Lowpass Images\\\\'\n",
    "Output3 = 'C:\\\\Users\\\\HP\\\\Downloads\\\\DSP Project\\\\hmb\\\\Final Stuff\\\\GASS Images\\\\'"
   ]
  },
  {
   "cell_type": "code",
   "execution_count": 4,
   "metadata": {},
   "outputs": [],
   "source": [
    "Class_List = os.listdir(Signals)"
   ]
  },
  {
   "cell_type": "code",
   "execution_count": 5,
   "metadata": {},
   "outputs": [
    {
     "data": {
      "text/plain": [
       "['A65',\n",
       " 'a97',\n",
       " 'e101',\n",
       " 'E69',\n",
       " 'f102',\n",
       " 'F70',\n",
       " 'j106',\n",
       " 'J74',\n",
       " 'L76',\n",
       " 'N78',\n",
       " 'Q81',\n",
       " 'R82',\n",
       " 'S83',\n",
       " 'Slash47',\n",
       " 'V86']"
      ]
     },
     "execution_count": 5,
     "metadata": {},
     "output_type": "execute_result"
    }
   ],
   "source": [
    "Class_List"
   ]
  },
  {
   "cell_type": "code",
   "execution_count": 7,
   "metadata": {},
   "outputs": [
    {
     "name": "stdout",
     "output_type": "stream",
     "text": [
      "Class V86 Done!\n"
     ]
    }
   ],
   "source": [
    "for ecgclass in Class_List:\n",
    "    Signal_Path = Signals + ecgclass + \"\\\\\"\n",
    "    \n",
    "    if not os.path.exists(Temp + ecgclass + \"\\\\\"):\n",
    "        os.makedirs(Temp + ecgclass + \"\\\\\")\n",
    "\n",
    "    if not os.path.exists(Output + ecgclass + \"\\\\\"):\n",
    "        os.makedirs(Output + ecgclass + \"\\\\\")\n",
    "    \n",
    "    count = 0\n",
    "    \n",
    "    for file in listdir(Signal_Path):\n",
    "        if file.endswith(\".mat\"):\n",
    "            count = count + 1\n",
    "            if count > 1910:\n",
    "                mat = scipy.io.loadmat(Signals + ecgclass + \"\\\\\" + file)\n",
    "                array = mat[\"var\"][0]\n",
    "                x = np.linspace(1, len(array), len(array)) \n",
    "\n",
    "                fig = plt.figure(figsize=(2, 2), dpi=80, frameon=False)\n",
    "                plt.plot(x, array)\n",
    "                plt.xticks([])\n",
    "                plt.yticks([])\n",
    "\n",
    "                fig.savefig(Temp + ecgclass + \"\\\\\" + file[:-4] + \".png\")\n",
    "                plt.close()\n",
    "\n",
    "                im_gray = cv2.imread(Temp + ecgclass + \"\\\\\" + file[:-4] + \".png\", cv2.IMREAD_GRAYSCALE)\n",
    "                im_gray = cv2.resize(im_gray, (128, 128), interpolation = cv2.INTER_LANCZOS4)\n",
    "\n",
    "                cv2.imwrite(Output + ecgclass + \"\\\\\" + file[:-4] + \".png\", im_gray)\n",
    "\n",
    "    print(\"Class \" + ecgclass + \" Done!\")"
   ]
  },
  {
   "cell_type": "code",
   "execution_count": 8,
   "metadata": {},
   "outputs": [],
   "source": [
    "Class_List = os.listdir(Signals2)"
   ]
  },
  {
   "cell_type": "code",
   "execution_count": 7,
   "metadata": {},
   "outputs": [
    {
     "name": "stdout",
     "output_type": "stream",
     "text": [
      "Class Slash47 Done!\n"
     ]
    }
   ],
   "source": [
    "for ecgclass in Class_List:\n",
    "    Signal_Path = Signals2 + ecgclass + \"\\\\\"\n",
    "    \n",
    "    if not os.path.exists(Temp2 + ecgclass + \"\\\\\"):\n",
    "        os.makedirs(Temp2 + ecgclass + \"\\\\\")\n",
    "\n",
    "    if not os.path.exists(Output2 + ecgclass + \"\\\\\"):\n",
    "        os.makedirs(Output2 + ecgclass + \"\\\\\")\n",
    "    \n",
    "    count = 0\n",
    "    for file in listdir(Signal_Path):\n",
    "\n",
    "        if file.endswith(\".dat\"):\n",
    "            count = count + 1\n",
    "            if count > 1020:\n",
    "                array = np.loadtxt(Signal_Path + file)\n",
    "\n",
    "                x = np.linspace(1, len(array), len(array))\n",
    "\n",
    "                fig = plt.figure(figsize=(2, 2), dpi=80, frameon=False)\n",
    "                plt.plot(x, array)\n",
    "                plt.xticks([])\n",
    "                plt.yticks([])\n",
    "\n",
    "                fig.savefig(Temp2 + ecgclass + \"\\\\\" + file[:-4] + \".png\")\n",
    "                plt.close()\n",
    "\n",
    "                im_gray = cv2.imread(Temp2 + ecgclass + \"\\\\\" + file[:-4] + \".png\", cv2.IMREAD_GRAYSCALE)\n",
    "                im_gray = cv2.resize(im_gray, (128, 128), interpolation = cv2.INTER_LANCZOS4)\n",
    "\n",
    "                cv2.imwrite(Output2 + ecgclass + \"\\\\\" + file[:-4] + \".png\", im_gray)\n",
    "\n",
    "    print(\"Class \" + ecgclass + \" Done!\")"
   ]
  },
  {
   "cell_type": "code",
   "execution_count": 4,
   "metadata": {},
   "outputs": [],
   "source": [
    "Class_List = os.listdir(Signals3)"
   ]
  },
  {
   "cell_type": "code",
   "execution_count": 6,
   "metadata": {},
   "outputs": [
    {
     "data": {
      "text/plain": [
       "['Slash47']"
      ]
     },
     "execution_count": 6,
     "metadata": {},
     "output_type": "execute_result"
    }
   ],
   "source": [
    "Class_List = ['Slash47']\n",
    "Class_List"
   ]
  },
  {
   "cell_type": "code",
   "execution_count": 7,
   "metadata": {},
   "outputs": [
    {
     "name": "stdout",
     "output_type": "stream",
     "text": [
      "Class Slash47 Done!\n"
     ]
    }
   ],
   "source": [
    "for ecgclass in Class_List:\n",
    "    Signal_Path = Signals3 + ecgclass + \"\\\\\"\n",
    "    \n",
    "    if not os.path.exists(Temp3 + ecgclass + \"\\\\\"):\n",
    "        os.makedirs(Temp3 + ecgclass + \"\\\\\")\n",
    "\n",
    "    if not os.path.exists(Output3 + ecgclass + \"\\\\\"):\n",
    "        os.makedirs(Output3 + ecgclass + \"\\\\\")\n",
    "    \n",
    "    count = 0\n",
    "    \n",
    "    for file in listdir(Signal_Path):\n",
    "\n",
    "        if file.endswith(\".dat\"):\n",
    "            count = count + 1\n",
    "            if count > 3134:\n",
    "                array = np.loadtxt(Signal_Path + file)\n",
    "\n",
    "                x = np.linspace(1, len(array), len(array))\n",
    "\n",
    "                fig = plt.figure(figsize=(2, 2), dpi=80, frameon=False)\n",
    "                plt.plot(x, array)\n",
    "                plt.xticks([])\n",
    "                plt.yticks([])\n",
    "\n",
    "                fig.savefig(Temp3 + ecgclass + \"\\\\\" + file[:-4] + \".png\")\n",
    "                plt.close()\n",
    "\n",
    "                im_gray = cv2.imread(Temp3 + ecgclass + \"\\\\\" + file[:-4] + \".png\", cv2.IMREAD_GRAYSCALE)\n",
    "                im_gray = cv2.resize(im_gray, (128, 128), interpolation = cv2.INTER_LANCZOS4)\n",
    "\n",
    "                cv2.imwrite(Output3 + ecgclass + \"\\\\\" + file[:-4] + \".png\", im_gray)\n",
    "\n",
    "    print(\"Class \" + ecgclass + \" Done!\")"
   ]
  },
  {
   "cell_type": "code",
   "execution_count": 9,
   "metadata": {},
   "outputs": [],
   "source": [
    "# Remove the Temporary Folder after everything is done\n",
    "shutil.rmtree(Temp)\n",
    "shutil.rmtree(Temp2)\n",
    "shutil.rmtree(Temp3)"
   ]
  },
  {
   "cell_type": "code",
   "execution_count": null,
   "metadata": {},
   "outputs": [],
   "source": []
  }
 ],
 "metadata": {
  "kernelspec": {
   "display_name": "Python 3",
   "language": "python",
   "name": "python3"
  },
  "language_info": {
   "codemirror_mode": {
    "name": "ipython",
    "version": 3
   },
   "file_extension": ".py",
   "mimetype": "text/x-python",
   "name": "python",
   "nbconvert_exporter": "python",
   "pygments_lexer": "ipython3",
   "version": "3.8.2"
  }
 },
 "nbformat": 4,
 "nbformat_minor": 4
}
