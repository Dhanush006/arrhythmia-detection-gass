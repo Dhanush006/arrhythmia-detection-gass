{
 "cells": [
  {
   "cell_type": "code",
   "execution_count": 1,
   "metadata": {},
   "outputs": [],
   "source": [
    "import os\n",
    "import cv2\n",
    "import struct\n",
    "import shutil\n",
    "import numpy as np\n",
    "from os import listdir\n",
    "import matplotlib.pyplot as plt\n",
    "import scipy.io\n",
    "from scipy.interpolate import interp1d"
   ]
  },
  {
   "cell_type": "code",
   "execution_count": 2,
   "metadata": {},
   "outputs": [],
   "source": [
    "Signals2 = 'C:\\\\Users\\\\HP\\\\Downloads\\\\DSP Project\\\\hmb\\\\Final Stuff\\\\Raw Ecg signals\\\\'\n",
    "\n",
    "Output3 = 'C:\\\\Users\\\\HP\\\\Downloads\\\\DSP Project\\\\hmb\\\\Final Stuff\\\\Resized Signals\\\\'"
   ]
  },
  {
   "cell_type": "code",
   "execution_count": 3,
   "metadata": {},
   "outputs": [],
   "source": [
    "Class_List = os.listdir(Signals2)"
   ]
  },
  {
   "cell_type": "code",
   "execution_count": 4,
   "metadata": {},
   "outputs": [
    {
     "data": {
      "text/plain": [
       "['A65',\n",
       " 'a97',\n",
       " 'e101',\n",
       " 'E69',\n",
       " 'f102',\n",
       " 'F70',\n",
       " 'j106',\n",
       " 'J74',\n",
       " 'L76',\n",
       " 'N78',\n",
       " 'Q81',\n",
       " 'R82',\n",
       " 'S83',\n",
       " 'Slash47',\n",
       " 'V86']"
      ]
     },
     "execution_count": 4,
     "metadata": {},
     "output_type": "execute_result"
    }
   ],
   "source": [
    "Class_List"
   ]
  },
  {
   "cell_type": "code",
   "execution_count": 5,
   "metadata": {},
   "outputs": [
    {
     "name": "stdout",
     "output_type": "stream",
     "text": [
      "Class A65 Done!\n",
      "Class a97 Done!\n",
      "Class e101 Done!\n",
      "Class E69 Done!\n",
      "Class f102 Done!\n",
      "Class F70 Done!\n",
      "Class j106 Done!\n",
      "Class J74 Done!\n",
      "Class L76 Done!\n",
      "Class N78 Done!\n",
      "Class Q81 Done!\n",
      "Class R82 Done!\n",
      "Class S83 Done!\n",
      "Class Slash47 Done!\n",
      "Class V86 Done!\n"
     ]
    }
   ],
   "source": [
    "for ecgclass in Class_List:\n",
    "    Signal_Path = Signals2 + ecgclass + \"\\\\\"\n",
    "    \n",
    "    if not os.path.exists(Output3 + ecgclass + \"\\\\\"):\n",
    "        os.makedirs(Output3 + ecgclass + \"\\\\\")\n",
    "    \n",
    "    \n",
    "    for file in listdir(Signal_Path):\n",
    "        \n",
    "        if file.endswith(\".dat\"):\n",
    "            array = np.loadtxt(Signal_Path + file)\n",
    "\n",
    "            xnew = np.linspace(1, len(array), 384)\n",
    "            x = np.linspace(1, len(array), len(array)) \n",
    "            f3 = interp1d(x, array, kind='quadratic')\n",
    "            \n",
    "            mdic = {\"var\" : f3(xnew)}\n",
    "            \n",
    "            scipy.io.savemat(Output3 + ecgclass + \"\\\\\" + file[:-4] + \".mat\", mdic)\n",
    "\n",
    "            \n",
    "    print(\"Class \" + ecgclass + \" Done!\")"
   ]
  },
  {
   "cell_type": "code",
   "execution_count": null,
   "metadata": {},
   "outputs": [],
   "source": []
  }
 ],
 "metadata": {
  "kernelspec": {
   "display_name": "Python 3",
   "language": "python",
   "name": "python3"
  },
  "language_info": {
   "codemirror_mode": {
    "name": "ipython",
    "version": 3
   },
   "file_extension": ".py",
   "mimetype": "text/x-python",
   "name": "python",
   "nbconvert_exporter": "python",
   "pygments_lexer": "ipython3",
   "version": "3.8.2"
  }
 },
 "nbformat": 4,
 "nbformat_minor": 4
}
